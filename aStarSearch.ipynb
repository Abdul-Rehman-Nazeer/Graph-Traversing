{
 "cells": [
  {
   "cell_type": "markdown",
   "metadata": {},
   "source": [
    "# A*Search Algorithm"
   ]
  },
  {
   "cell_type": "code",
   "execution_count": 1,
   "metadata": {},
   "outputs": [
    {
     "name": "stdout",
     "output_type": "stream",
     "text": [
      "Path: ['S', 'A', 'B', 'D']\n",
      "Total Cost: 11\n"
     ]
    }
   ],
   "source": [
    "# Q.4\n",
    "import heapq\n",
    "\n",
    "graph = {\n",
    "    'S': {'A': 1},\n",
    "    'A': {'B': 2, 'C': 3},\n",
    "    'B': {'D': 2},\n",
    "    'C': {'D': 3},\n",
    "    'D': {},\n",
    "    'G': {}\n",
    "}\n",
    "\n",
    "heuristic = {\n",
    "    'S': 5,\n",
    "    'A': 3,\n",
    "    'B': 4,\n",
    "    'C': 2,\n",
    "    'D': 6,\n",
    "    'G': 0\n",
    "}\n",
    "\n",
    "def astar_search(graph, heuristic, start, goal):\n",
    "    open_list = [(0, start)]\n",
    "    closed_set = set()\n",
    "    came_from = {}\n",
    "    g_score = {node: float('inf') for node in graph}\n",
    "    g_score[start] = 0\n",
    "\n",
    "    while open_list:\n",
    "        current_cost, current_node = heapq.heappop(open_list)\n",
    "\n",
    "        if current_node == goal:\n",
    "            path = []\n",
    "            while current_node in came_from:\n",
    "                path.append(current_node)\n",
    "                current_node = came_from[current_node]\n",
    "            path.append(start)\n",
    "            path.reverse()\n",
    "            return path, current_cost\n",
    "\n",
    "        closed_set.add(current_node)\n",
    "\n",
    "        for neighbor, cost in graph[current_node].items():\n",
    "            if neighbor in closed_set:\n",
    "                continue\n",
    "            tentative_g_score = g_score[current_node] + cost\n",
    "            if tentative_g_score < g_score[neighbor]:\n",
    "                came_from[neighbor] = current_node\n",
    "                g_score[neighbor] = tentative_g_score\n",
    "                f_score = g_score[neighbor] + heuristic[neighbor]\n",
    "                heapq.heappush(open_list, (f_score, neighbor))\n",
    "\n",
    "    return None, float('inf')\n",
    "\n",
    "start_node = 'S'\n",
    "goal_node = 'D'\n",
    "\n",
    "path, total_cost = astar_search(graph, heuristic, start_node, goal_node)\n",
    "if path:\n",
    "    print(\"Path:\", path)\n",
    "    print(\"Total Cost:\", total_cost)\n",
    "else:\n",
    "    print(\"No path found from\", start_node, \"to\", goal_node)\n"
   ]
  }
 ],
 "metadata": {
  "kernelspec": {
   "display_name": "Python 3",
   "language": "python",
   "name": "python3"
  },
  "language_info": {
   "codemirror_mode": {
    "name": "ipython",
    "version": 3
   },
   "file_extension": ".py",
   "mimetype": "text/x-python",
   "name": "python",
   "nbconvert_exporter": "python",
   "pygments_lexer": "ipython3",
   "version": "3.11.5"
  }
 },
 "nbformat": 4,
 "nbformat_minor": 2
}
